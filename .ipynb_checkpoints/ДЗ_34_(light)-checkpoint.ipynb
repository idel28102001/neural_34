{
 "cells": [
  {
   "cell_type": "code",
   "execution_count": 1,
   "id": "eea2b0bd",
   "metadata": {},
   "outputs": [],
   "source": [
    "import threading\n",
    "import tensorflow\n",
    "import keras\n",
    "import tensorflow.keras.models\n",
    "from tensorflow.keras import backend as K\n",
    "import tensorflow as tf\n",
    "from tensorflow.keras.models import Sequential, model_from_json\n",
    "from tensorflow.keras.layers import Dense, Dropout, Flatten\n",
    "from tensorflow.keras.layers import Conv2D, MaxPooling2D\n",
    "from tensorflow.keras.datasets import mnist\n",
    "from tensorflow.keras.preprocessing import image\n",
    "from PIL import Image\n",
    "import PIL.ImageOps"
   ]
  },
  {
   "cell_type": "code",
   "execution_count": 2,
   "id": "ed3a8c20",
   "metadata": {},
   "outputs": [],
   "source": [
    "from flask import Flask, request\n",
    "from flask import render_template\n",
    "import imageio\n",
    "import numpy as np\n",
    "import re\n",
    "import sys\n",
    "import os\n",
    "import base64\n",
    "\n",
    "app = Flask(__name__)"
   ]
  },
  {
   "cell_type": "code",
   "execution_count": 3,
   "id": "bb823d36",
   "metadata": {},
   "outputs": [],
   "source": [
    "with open('model.json', 'r') as f:\n",
    "    loaded_model_json = f.read()\n",
    "    loaded_model = model_from_json(loaded_model_json)"
   ]
  },
  {
   "cell_type": "code",
   "execution_count": 4,
   "id": "8321b113",
   "metadata": {},
   "outputs": [],
   "source": [
    "loaded_model.load_weights('model.h5')\n",
    "loaded_model.compile(loss='categorical_crossentropy', optimizer='adam', metrics=['accuracy'])"
   ]
  },
  {
   "cell_type": "code",
   "execution_count": 5,
   "id": "ed65fd08",
   "metadata": {},
   "outputs": [],
   "source": [
    "def convertImage(imgData):\n",
    "    imgstr = re.search(b'base64,(.*)', imgData).group(1)\n",
    "    with open('output.png', 'wb') as output:\n",
    "        output.write(base64.b64decode(imgstr))"
   ]
  },
  {
   "cell_type": "code",
   "execution_count": 6,
   "id": "9248feae",
   "metadata": {},
   "outputs": [],
   "source": [
    "@app.route('/')\n",
    "@app.route('/index')\n",
    "def index():\n",
    "    return render_template('index.html')"
   ]
  },
  {
   "cell_type": "code",
   "execution_count": 7,
   "id": "130cecea",
   "metadata": {},
   "outputs": [],
   "source": [
    "@app.route('/predict/', methods=['GET', 'POST'])\n",
    "def predict():\n",
    "    imgData = request.get_data()\n",
    "    convertImage(imgData)\n",
    "    print('debug')\n",
    "    img = image.load_img('output.png', target_size=(28,28), color_mode = 'grayscale')\n",
    "    img = PIL. ImageOps.invert(img)\n",
    "    sample = np.array(img)\n",
    "    sample = np.reshape(sample, (1, 28, 28, 1))\n",
    "    sample = sample.astype('float32')\n",
    "    sample = sample / 255\n",
    "    out = loaded_model.predict (sample)\n",
    "    print (\"debug2\")\n",
    "    print (out)\n",
    "    print (np.argmax(out, axis=1))\n",
    "    print (\"debug3\")\n",
    "    \n",
    "    response = np.array_str(np.argmax(out, axis=1))\n",
    "    return response"
   ]
  },
  {
   "cell_type": "code",
   "execution_count": null,
   "id": "5f2f7c22",
   "metadata": {},
   "outputs": [
    {
     "name": "stdout",
     "output_type": "stream",
     "text": [
      " * Serving Flask app \"__main__\" (lazy loading)\n",
      " * Environment: production\n",
      "\u001b[31m   WARNING: This is a development server. Do not use it in a production deployment.\u001b[0m\n",
      "\u001b[2m   Use a production WSGI server instead.\u001b[0m\n",
      " * Debug mode: off\n"
     ]
    },
    {
     "name": "stderr",
     "output_type": "stream",
     "text": [
      " * Running on http://127.0.0.1:5034/ (Press CTRL+C to quit)\n",
      "[2023-01-23 20:02:04,958] ERROR in app: Exception on / [GET]\n",
      "Traceback (most recent call last):\n",
      "  File \"C:\\Users\\idel2\\anaconda3\\lib\\site-packages\\flask\\app.py\", line 2447, in wsgi_app\n",
      "    response = self.full_dispatch_request()\n",
      "  File \"C:\\Users\\idel2\\anaconda3\\lib\\site-packages\\flask\\app.py\", line 1952, in full_dispatch_request\n",
      "    rv = self.handle_user_exception(e)\n",
      "  File \"C:\\Users\\idel2\\anaconda3\\lib\\site-packages\\flask\\app.py\", line 1821, in handle_user_exception\n",
      "    reraise(exc_type, exc_value, tb)\n",
      "  File \"C:\\Users\\idel2\\anaconda3\\lib\\site-packages\\flask\\_compat.py\", line 39, in reraise\n",
      "    raise value\n",
      "  File \"C:\\Users\\idel2\\anaconda3\\lib\\site-packages\\flask\\app.py\", line 1950, in full_dispatch_request\n",
      "    rv = self.dispatch_request()\n",
      "  File \"C:\\Users\\idel2\\anaconda3\\lib\\site-packages\\flask\\app.py\", line 1936, in dispatch_request\n",
      "    return self.view_functions[rule.endpoint](**req.view_args)\n",
      "  File \"C:\\Users\\idel2\\AppData\\Local\\Temp\\ipykernel_14492\\3491352654.py\", line 4, in index\n",
      "    return render_template('index.html')\n",
      "  File \"C:\\Users\\idel2\\anaconda3\\lib\\site-packages\\flask\\templating.py\", line 138, in render_template\n",
      "    ctx.app.jinja_env.get_or_select_template(template_name_or_list),\n",
      "  File \"C:\\Users\\idel2\\anaconda3\\lib\\site-packages\\jinja2\\environment.py\", line 930, in get_or_select_template\n",
      "    return self.get_template(template_name_or_list, parent, globals)\n",
      "  File \"C:\\Users\\idel2\\anaconda3\\lib\\site-packages\\jinja2\\environment.py\", line 883, in get_template\n",
      "    return self._load_template(name, self.make_globals(globals))\n",
      "  File \"C:\\Users\\idel2\\anaconda3\\lib\\site-packages\\jinja2\\environment.py\", line 857, in _load_template\n",
      "    template = self.loader.load(self, name, globals)\n",
      "  File \"C:\\Users\\idel2\\anaconda3\\lib\\site-packages\\jinja2\\loaders.py\", line 115, in load\n",
      "    source, filename, uptodate = self.get_source(environment, name)\n",
      "  File \"C:\\Users\\idel2\\anaconda3\\lib\\site-packages\\flask\\templating.py\", line 60, in get_source\n",
      "    return self._get_source_fast(environment, template)\n",
      "  File \"C:\\Users\\idel2\\anaconda3\\lib\\site-packages\\flask\\templating.py\", line 89, in _get_source_fast\n",
      "    raise TemplateNotFound(template)\n",
      "jinja2.exceptions.TemplateNotFound: index.html\n",
      "127.0.0.1 - - [23/Jan/2023 20:02:04] \"GET / HTTP/1.1\" 500 -\n",
      "127.0.0.1 - - [23/Jan/2023 20:04:02] \"GET / HTTP/1.1\" 200 -\n",
      "127.0.0.1 - - [23/Jan/2023 20:04:02] \"GET /static/normalize.css HTTP/1.1\" 200 -\n",
      "127.0.0.1 - - [23/Jan/2023 20:04:02] \"GET /static/style.css HTTP/1.1\" 200 -\n",
      "127.0.0.1 - - [23/Jan/2023 20:04:02] \"GET /static/jquery.min.js HTTP/1.1\" 200 -\n",
      "127.0.0.1 - - [23/Jan/2023 20:04:02] \"GET /static/index.js HTTP/1.1\" 200 -\n",
      "127.0.0.1 - - [23/Jan/2023 20:04:05] \"POST /predict/ HTTP/1.1\" 404 -\n",
      "127.0.0.1 - - [23/Jan/2023 20:04:11] \"POST /predict/ HTTP/1.1\" 404 -\n",
      "127.0.0.1 - - [23/Jan/2023 20:04:18] \"POST /predict/ HTTP/1.1\" 404 -\n"
     ]
    }
   ],
   "source": [
    "port = int(os.environ.get('PORT', 5034))\n",
    "app.run(host='127.0.0.1', port=port, threaded=False)"
   ]
  },
  {
   "cell_type": "code",
   "execution_count": null,
   "id": "68d5165a",
   "metadata": {},
   "outputs": [],
   "source": []
  }
 ],
 "metadata": {
  "kernelspec": {
   "display_name": "Python 3 (ipykernel)",
   "language": "python",
   "name": "python3"
  },
  "language_info": {
   "codemirror_mode": {
    "name": "ipython",
    "version": 3
   },
   "file_extension": ".py",
   "mimetype": "text/x-python",
   "name": "python",
   "nbconvert_exporter": "python",
   "pygments_lexer": "ipython3",
   "version": "3.9.13"
  }
 },
 "nbformat": 4,
 "nbformat_minor": 5
}
